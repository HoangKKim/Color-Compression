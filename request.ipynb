{
  "cells": [
    {
      "cell_type": "markdown",
      "metadata": {
        "id": "TiVSFeQUyCDM"
      },
      "source": [
        "# <center>Ma trận trong Python</center>"
      ]
    },
    {
      "cell_type": "markdown",
      "metadata": {
        "id": "fhifzh5ayCDP"
      },
      "source": [
        "## Mục lục\n",
        "* [Thực hành](#c1)\n",
        "    * [Khai báo ma trận](#c11)\n",
        "    * [Các phép toán cơ bản trên ma trận](#c12)\n",
        "    * [Định thức](#c13)\n",
        "    * [Nghịch đảo ma trận](#c14)\n",
        "* [Đồ án 1 - Color Compression](#c2)\n",
        "    * [Nội dung đồ án](#c21)\n",
        "    * [Quy định nộp bài](#c22)\n",
        "    * [Quy định chấm bài](#c23)"
      ]
    },
    {
      "cell_type": "markdown",
      "metadata": {
        "id": "g3YuYEHIyCDP"
      },
      "source": [
        "## Thực hành <a class=\"anchor\" id=\"c1\"></a>"
      ]
    },
    {
      "cell_type": "markdown",
      "metadata": {
        "id": "1TCZcdrdyCDP"
      },
      "source": [
        "Trong bài lab này, chúng ta sẽ đồng thời sử dụng `list` và  `NumPy` để thực hiện các phép toán trên ma trận.\n",
        "\n",
        "Trong đó, sử dụng `list` để thực hiện các phép toán bằng code thủ công; sử dụng `NumPy` để gọi các hàm có sẵn trong thư viện."
      ]
    },
    {
      "cell_type": "code",
      "execution_count": null,
      "metadata": {
        "id": "VBmGDdICyCDQ"
      },
      "outputs": [],
      "source": [
        "import numpy as np\n",
        "\n",
        "# From lab 01\n",
        "def my_print(x, sep=\" \"):\n",
        "    if isinstance(x, list) and x:\n",
        "        if isinstance(x[0], list): # list of list\n",
        "            m, n = len(x), len(x[0])\n",
        "            widths = [max(len(str(ai[j])) for ai in x) for j in range(n)]\n",
        "            rows = [sep.join(format(str(ai[j]), f\">{widths[j]}\") for j in range(n)) for ai in x]\n",
        "            print(\"[\" + \"\\n\".join((\" [\" if i > 0 else \"[\") + rows[i] + \"]\" for i in range(m)) + \"]\")\n",
        "        else: # list\n",
        "            print(\"[\" + sep.join(str(e) for e in x) + \"]\")\n",
        "    else:\n",
        "        print(x)"
      ]
    },
    {
      "cell_type": "markdown",
      "metadata": {
        "id": "egK73psDyCDR"
      },
      "source": [
        "### Khai báo ma trận <a class=\"anchor\" id=\"c11\"></a>"
      ]
    },
    {
      "cell_type": "markdown",
      "metadata": {
        "id": "nOgyHMsjyCDR"
      },
      "source": [
        "Trong Python, ma trận có thể biểu diễn bằng kiểu dữ liệu `list` (`list` of `list`) hoặc mảng NumPy 2 chiều (`np.array`). Giả sử với ma trận:\n",
        "$$A = \\begin{bmatrix}\n",
        "    1   & 1.5 & -1.2\\\\\n",
        "    2   & 3.7 & 8\\\\\n",
        "    3.5 & 2.5 & 4\n",
        "    \\end{bmatrix}$$\n",
        "\n",
        "Ta có thể biểu diễn bằng kiểu dữ liệu `list` như sau:"
      ]
    },
    {
      "cell_type": "code",
      "execution_count": null,
      "metadata": {
        "colab": {
          "base_uri": "https://localhost:8080/"
        },
        "id": "tWxhxhn8yCDR",
        "outputId": "cee202a5-2cc0-469f-e034-1f6e0e0dc4e1"
      },
      "outputs": [
        {
          "name": "stdout",
          "output_type": "stream",
          "text": [
            "- The number of rows: 3\n",
            "- The number of columns: 3\n",
            "[[  1 1.5 -1.2]\n",
            " [  2 3.7    8]\n",
            " [3.5 2.5    4]]\n"
          ]
        }
      ],
      "source": [
        "A_list = [[1, 1.5, -1.2],\n",
        "          [2, 3.7, 8],\n",
        "          [3.5, 2.5, 4]]\n",
        "\n",
        "print(f'- The number of rows: {len(A_list)}\\n- The number of columns: {len(A_list[0])}')\n",
        "my_print(A_list)"
      ]
    },
    {
      "cell_type": "markdown",
      "metadata": {
        "id": "B0xQj1sXyCDR"
      },
      "source": [
        "Và có thể biểu diễn trong NumPy như sau:"
      ]
    },
    {
      "cell_type": "code",
      "execution_count": null,
      "metadata": {
        "colab": {
          "base_uri": "https://localhost:8080/"
        },
        "id": "itMuYDScyCDS",
        "outputId": "3053256b-695c-43db-b547-7b1ea0845f52"
      },
      "outputs": [
        {
          "name": "stdout",
          "output_type": "stream",
          "text": [
            "- The number of rows: 3\n",
            "- The number of cols: 3\n",
            "[[ 1.   1.5 -1.2]\n",
            " [ 2.   3.7  8. ]\n",
            " [ 3.5  2.5  4. ]]\n"
          ]
        }
      ],
      "source": [
        "A_np = np.array(A_list)\n",
        "\n",
        "print(f'- The number of rows: {A_np.shape[0]}\\n- The number of cols: {A_np.shape[1]}')\n",
        "print(A_np)"
      ]
    },
    {
      "cell_type": "markdown",
      "metadata": {
        "id": "rT-vZsmvyCDS"
      },
      "source": [
        "#### Khởi tạo ma trận toàn 0"
      ]
    },
    {
      "cell_type": "markdown",
      "metadata": {
        "id": "TljKDKxayCDS"
      },
      "source": [
        "##### Trên `list`"
      ]
    },
    {
      "cell_type": "code",
      "execution_count": null,
      "metadata": {
        "id": "B38Iuw3tyCDS"
      },
      "outputs": [],
      "source": [
        "def create_zero_matrix(n_row, n_col):\n",
        "    return [[0 for _ in range(n_col)] for _ in range(n_row)]"
      ]
    },
    {
      "cell_type": "code",
      "execution_count": null,
      "metadata": {
        "colab": {
          "base_uri": "https://localhost:8080/"
        },
        "id": "KvLRr5oyyCDS",
        "outputId": "0c9733c7-69b2-428f-8efc-b8101aa432cc"
      },
      "outputs": [
        {
          "name": "stdout",
          "output_type": "stream",
          "text": [
            "[[0 0 0]\n",
            " [0 0 0]\n",
            " [0 0 0]]\n"
          ]
        }
      ],
      "source": [
        "my_print(create_zero_matrix(3, 3))"
      ]
    },
    {
      "cell_type": "markdown",
      "metadata": {
        "id": "eo6rCCa1yCDS"
      },
      "source": [
        "##### Trên `NumPy`"
      ]
    },
    {
      "cell_type": "code",
      "execution_count": null,
      "metadata": {
        "colab": {
          "base_uri": "https://localhost:8080/"
        },
        "id": "GqgXgFE6yCDT",
        "outputId": "27276ef1-fd76-456e-84eb-ac69657e9546"
      },
      "outputs": [
        {
          "data": {
            "text/plain": [
              "array([[0., 0., 0.],\n",
              "       [0., 0., 0.],\n",
              "       [0., 0., 0.]])"
            ]
          },
          "execution_count": 319,
          "metadata": {},
          "output_type": "execute_result"
        }
      ],
      "source": [
        "np.zeros((3, 3))"
      ]
    },
    {
      "cell_type": "markdown",
      "metadata": {
        "id": "5nxoy4PLyCDT"
      },
      "source": [
        "#### Khai báo ma trận toàn 1"
      ]
    },
    {
      "cell_type": "markdown",
      "metadata": {
        "id": "qfwouSRzyCDT"
      },
      "source": [
        "##### Trên `list`"
      ]
    },
    {
      "cell_type": "code",
      "execution_count": null,
      "metadata": {
        "colab": {
          "base_uri": "https://localhost:8080/"
        },
        "id": "IvRlbBBcyCDT",
        "outputId": "b4922fef-a7b8-4c46-ac92-daf5083415a8"
      },
      "outputs": [
        {
          "name": "stdout",
          "output_type": "stream",
          "text": [
            "[[1 1 1]\n",
            " [1 1 1]\n",
            " [1 1 1]]\n"
          ]
        }
      ],
      "source": [
        "### TODO: YOUR CODE HERE\n",
        "def create_one_matrix(n_row, n_col):\n",
        "  return[[1 for _ in range(n_col)] for _ in range(n_row)]\n",
        "my_print(create_one_matrix(3,3))"
      ]
    },
    {
      "cell_type": "markdown",
      "metadata": {
        "id": "QbZKqutKyCDT"
      },
      "source": [
        "##### Trên `NumPy`"
      ]
    },
    {
      "cell_type": "code",
      "execution_count": null,
      "metadata": {
        "colab": {
          "base_uri": "https://localhost:8080/"
        },
        "id": "cHgzcxuNyCDT",
        "outputId": "f96089a4-6caf-416d-d72f-cc0f288faecc"
      },
      "outputs": [
        {
          "data": {
            "text/plain": [
              "array([[1., 1., 1.],\n",
              "       [1., 1., 1.],\n",
              "       [1., 1., 1.]])"
            ]
          },
          "execution_count": 321,
          "metadata": {},
          "output_type": "execute_result"
        }
      ],
      "source": [
        "### TODO: YOUR CODE HERE\n",
        "np.ones((3,3))"
      ]
    },
    {
      "cell_type": "markdown",
      "metadata": {
        "id": "pxI4QVziyCDT"
      },
      "source": [
        "#### Khai báo ma trận đơn vị"
      ]
    },
    {
      "cell_type": "markdown",
      "metadata": {
        "id": "vrvAY0RhyCDT"
      },
      "source": [
        "##### Trên `list`"
      ]
    },
    {
      "cell_type": "code",
      "execution_count": null,
      "metadata": {
        "id": "RduvFUiDyCDT"
      },
      "outputs": [],
      "source": [
        "def create_identity_matrix(n):\n",
        "    return [[1 if i == j else 0 for j in range(n)] for i in range(n)]"
      ]
    },
    {
      "cell_type": "code",
      "execution_count": null,
      "metadata": {
        "colab": {
          "base_uri": "https://localhost:8080/"
        },
        "id": "4sGGIrbayCDT",
        "outputId": "7449c20f-8bb0-4acf-a59b-ecee8926f588",
        "scrolled": true
      },
      "outputs": [
        {
          "name": "stdout",
          "output_type": "stream",
          "text": [
            "[[1 0 0]\n",
            " [0 1 0]\n",
            " [0 0 1]]\n"
          ]
        }
      ],
      "source": [
        "my_print(create_identity_matrix(3))"
      ]
    },
    {
      "cell_type": "markdown",
      "metadata": {
        "id": "3pMJmIudyCDU"
      },
      "source": [
        "##### Trên `NumPy`"
      ]
    },
    {
      "cell_type": "code",
      "execution_count": null,
      "metadata": {
        "colab": {
          "base_uri": "https://localhost:8080/"
        },
        "id": "z-JoV1AFyCDU",
        "outputId": "34d23ba7-b4fa-44d8-f65e-0c3272e27b31"
      },
      "outputs": [
        {
          "data": {
            "text/plain": [
              "array([[1., 0., 0.],\n",
              "       [0., 1., 0.],\n",
              "       [0., 0., 1.]])"
            ]
          },
          "execution_count": 324,
          "metadata": {},
          "output_type": "execute_result"
        }
      ],
      "source": [
        "### TODO: print(YOUR CODE HERE)\n",
        "np.eye(3)"
      ]
    },
    {
      "cell_type": "markdown",
      "metadata": {
        "id": "_CUOnyB_yCDU"
      },
      "source": [
        "### Các phép toán cơ bản trên ma trận <a class=\"anchor\" id=\"c12\"></a>"
      ]
    },
    {
      "cell_type": "markdown",
      "metadata": {
        "id": "3uTiFJwbyCDU"
      },
      "source": [
        "#### Nhân số với ma trận"
      ]
    },
    {
      "cell_type": "code",
      "execution_count": null,
      "metadata": {
        "id": "xTeG2IEnyCDU"
      },
      "outputs": [],
      "source": [
        "def multiply_scalar_matrix(scalar, A_list):\n",
        "    return [[scalar * a for a in a_row] for a_row in A_list]"
      ]
    },
    {
      "cell_type": "code",
      "execution_count": null,
      "metadata": {
        "colab": {
          "base_uri": "https://localhost:8080/"
        },
        "id": "U5_pSHMLyCDU",
        "outputId": "4da1f589-84a1-491a-98ac-5cf0e8a8145b",
        "scrolled": false
      },
      "outputs": [
        {
          "name": "stdout",
          "output_type": "stream",
          "text": [
            "[[  2 3.0 -2.4]\n",
            " [  4 7.4   16]\n",
            " [7.0 5.0    8]]\n"
          ]
        }
      ],
      "source": [
        "my_print(multiply_scalar_matrix(2, A_list))"
      ]
    },
    {
      "cell_type": "markdown",
      "metadata": {
        "id": "yEpEz-8ryCDU"
      },
      "source": [
        "#### Cộng ma trận"
      ]
    },
    {
      "cell_type": "markdown",
      "metadata": {
        "id": "wLiZkIRnyCDU"
      },
      "source": [
        "##### Cộng ma trận với ma trận"
      ]
    },
    {
      "cell_type": "markdown",
      "metadata": {
        "id": "3leUR7V0yCDU"
      },
      "source": [
        "###### Thực hiện trên `A_list` (cách làm thủ công)"
      ]
    },
    {
      "cell_type": "code",
      "execution_count": null,
      "metadata": {
        "id": "VAJ3dwtVyCDU"
      },
      "outputs": [],
      "source": [
        "def add_matrix_list(A_list, B_list):\n",
        "#     # Method 1: Basic\n",
        "#     # Init\n",
        "#     C_list = [[0 for _ in range(len(A_list[0]))] for _ in range(len(A_list))]\n",
        "\n",
        "#     m_row = len(A_list)\n",
        "#     n_col = len(A_list[0])\n",
        "#     for i_row in range(m_row):\n",
        "#         for i_col in range(n_col):\n",
        "#             C_list[i_row][i_col] = A_list[i_row][i_col] + B_list[i_row][i_col]\n",
        "\n",
        "\n",
        "    # Method 2: List comprehension\n",
        "    C_list = [[a + b for (a, b) in zip(a_row, b_row)] for (a_row, b_row) in zip(A_list, B_list)]\n",
        "\n",
        "    return C_list"
      ]
    },
    {
      "cell_type": "code",
      "execution_count": null,
      "metadata": {
        "colab": {
          "base_uri": "https://localhost:8080/"
        },
        "id": "ziGEltdWyCDV",
        "outputId": "a3d89330-41a6-44ef-e92f-936615dba09c",
        "scrolled": true
      },
      "outputs": [
        {
          "name": "stdout",
          "output_type": "stream",
          "text": [
            "[[  1 1.5 -1.2]\n",
            " [  2 3.7    8]\n",
            " [3.5 2.5    4]]\n",
            "\n",
            "[[  2 1.5  1.2]\n",
            " [  3   7 -9.5]\n",
            " [5.5   2    4]]\n",
            "\n",
            "[[  3  3.0  0.0]\n",
            " [  5 10.7 -1.5]\n",
            " [9.0  4.5    8]]\n"
          ]
        }
      ],
      "source": [
        "# Init matrix\n",
        "B_list = [[2, 1.5, 1.2],\n",
        "          [3, 7, -9.5],\n",
        "          [5.5, 2, 4]]\n",
        "\n",
        "my_print(A_list)\n",
        "print()\n",
        "my_print(B_list)\n",
        "print()\n",
        "\n",
        "my_print(add_matrix_list(A_list, B_list))"
      ]
    },
    {
      "cell_type": "markdown",
      "metadata": {
        "id": "l00AHPRsyCDV"
      },
      "source": [
        "###### Thực hiện trên `A_np` (sử dụng hàm của thư viện `NumPy`)"
      ]
    },
    {
      "cell_type": "code",
      "execution_count": null,
      "metadata": {
        "colab": {
          "base_uri": "https://localhost:8080/"
        },
        "id": "-0fh_BzJyCDV",
        "outputId": "b1d7ceba-c3c3-4062-d984-1e1b4048356e"
      },
      "outputs": [
        {
          "name": "stdout",
          "output_type": "stream",
          "text": [
            "[[ 1.   1.5 -1.2]\n",
            " [ 2.   3.7  8. ]\n",
            " [ 3.5  2.5  4. ]]\n",
            "\n",
            "[[ 2.   1.5  1.2]\n",
            " [ 3.   7.  -9.5]\n",
            " [ 5.5  2.   4. ]]\n",
            "\n",
            "[[ 3.   3.   0. ]\n",
            " [ 5.  10.7 -1.5]\n",
            " [ 9.   4.5  8. ]]\n"
          ]
        }
      ],
      "source": [
        "B_np = np.array(B_list)\n",
        "# A_np = np.array(A_list)\n",
        "### TODO: print(YOUR CODE HERE)\n",
        "def add_matrix_by_Numpy(A_np, B_np):\n",
        "  return (np.add(A_np, B_np))\n",
        "\n",
        "print(A_np)\n",
        "print()\n",
        "print(B_np)\n",
        "print()\n",
        "print(add_matrix_by_Numpy(A_np, B_np))\n"
      ]
    },
    {
      "cell_type": "markdown",
      "metadata": {
        "id": "TxaIvpW7yCDV"
      },
      "source": [
        "##### Cộng ma trận với 1 số"
      ]
    },
    {
      "cell_type": "markdown",
      "metadata": {
        "id": "ixC2NOtjyCDY"
      },
      "source": [
        "###### Sử dụng `list`"
      ]
    },
    {
      "cell_type": "code",
      "execution_count": null,
      "metadata": {
        "colab": {
          "base_uri": "https://localhost:8080/"
        },
        "id": "vBJdr3MlyCDY",
        "outputId": "601e9776-287d-4d37-bd4c-f4e6576efb12"
      },
      "outputs": [
        {
          "name": "stdout",
          "output_type": "stream",
          "text": [
            "[[  4 4.5 1.8]\n",
            " [  5 6.7  11]\n",
            " [6.5 5.5   7]]\n"
          ]
        }
      ],
      "source": [
        "### TODO: YOUR CODE HERE\n",
        "def add_matrix_scalar(scalar, A_list):\n",
        "  return [[scalar + a for a in a_row] for a_row in A_list]\n",
        "\n",
        "my_print(add_matrix_scalar(3, A_list))"
      ]
    },
    {
      "cell_type": "markdown",
      "metadata": {
        "id": "rM6gWoJ1yCDY"
      },
      "source": [
        "###### Sử dụng `NumPy`"
      ]
    },
    {
      "cell_type": "code",
      "execution_count": null,
      "metadata": {
        "colab": {
          "base_uri": "https://localhost:8080/"
        },
        "id": "xc-NRIQ_yCDZ",
        "outputId": "6f3f50c0-a0fb-4ecd-8f9e-ec5edbb918bb"
      },
      "outputs": [
        {
          "name": "stdout",
          "output_type": "stream",
          "text": [
            "[[ 4.   4.5  1.8]\n",
            " [ 5.   6.7 11. ]\n",
            " [ 6.5  5.5  7. ]]\n"
          ]
        }
      ],
      "source": [
        "### TODO: YOUR CODE HERE\n",
        "print(A_np + 3)"
      ]
    },
    {
      "cell_type": "markdown",
      "metadata": {
        "id": "Sw3Xeg-uyCDZ"
      },
      "source": [
        "#### Trừ, nhân, chia các phần tử tương ứng của 2 ma trận"
      ]
    },
    {
      "cell_type": "markdown",
      "metadata": {
        "id": "FVZ5GizcyCDZ"
      },
      "source": [
        "Tương tự với cộng 2 ma trận, các phép toán còn lại tương tự."
      ]
    },
    {
      "cell_type": "markdown",
      "metadata": {
        "id": "fTK2UNqtyCDZ"
      },
      "source": [
        "##### Trên `A_list`"
      ]
    },
    {
      "cell_type": "code",
      "execution_count": null,
      "metadata": {
        "id": "tVeOPGpSyCDZ"
      },
      "outputs": [],
      "source": [
        "def op_matrix_list(A_list, B_list, op):\n",
        "    if op == '+':\n",
        "        return [[a + b for (a, b) in zip(a_row, b_row)] for (a_row, b_row) in zip(A_list, B_list)]\n",
        "    elif op == '-':\n",
        "        return [[a - b for (a, b) in zip(a_row, b_row)] for (a_row, b_row) in zip(A_list, B_list)]\n",
        "    elif op == '*': # element-wise\n",
        "        return [[a * b for (a, b) in zip(a_row, b_row)] for (a_row, b_row) in zip(A_list, B_list)]\n",
        "    elif op == '/': # element-wise\n",
        "        return [[a / b for (a, b) in zip(a_row, b_row)] for (a_row, b_row) in zip(A_list, B_list)]\n",
        "    else:\n",
        "        raise ValueError(f'Can\\'t understand operator {op}')"
      ]
    },
    {
      "cell_type": "code",
      "execution_count": null,
      "metadata": {
        "colab": {
          "base_uri": "https://localhost:8080/"
        },
        "id": "ydtlcPAnyCDZ",
        "outputId": "80b48820-c810-45be-d429-3da7d82b1fad"
      },
      "outputs": [
        {
          "name": "stdout",
          "output_type": "stream",
          "text": [
            "Subtraction of Matrices:\n",
            "[[  -1  0.0 -2.4]\n",
            " [  -1 -3.3 17.5]\n",
            " [-2.0  0.5    0]]\n",
            "\n",
            "Element-Wise Multiplication of Matrices:\n",
            "[[    2               2.25 -1.44]\n",
            " [    6 25.900000000000002 -76.0]\n",
            " [19.25                5.0    16]]\n",
            "\n",
            "Element-Wise Division of Matrices:\n",
            "[[               0.5                1.0                -1.0]\n",
            " [0.6666666666666666 0.5285714285714286 -0.8421052631578947]\n",
            " [0.6363636363636364               1.25                 1.0]]\n"
          ]
        }
      ],
      "source": [
        "print('Subtraction of Matrices:')\n",
        "my_print(op_matrix_list(A_list, B_list, '-'))\n",
        "\n",
        "print('\\nElement-Wise Multiplication of Matrices:')\n",
        "my_print(op_matrix_list(A_list, B_list, '*'))\n",
        "\n",
        "print('\\nElement-Wise Division of Matrices:')\n",
        "my_print(op_matrix_list(A_list, B_list, '/'))"
      ]
    },
    {
      "cell_type": "markdown",
      "metadata": {
        "id": "x7txJYELyCDZ"
      },
      "source": [
        "##### Trên `A_np`"
      ]
    },
    {
      "cell_type": "code",
      "execution_count": null,
      "metadata": {
        "colab": {
          "base_uri": "https://localhost:8080/"
        },
        "id": "j1Qc4aPkyCDZ",
        "outputId": "26ce1bae-3af0-4238-d529-46ea0686880c"
      },
      "outputs": [
        {
          "name": "stdout",
          "output_type": "stream",
          "text": [
            "Subtraction of Matrices: \n",
            " [[-1.   0.  -2.4]\n",
            " [-1.  -3.3 17.5]\n",
            " [-2.   0.5  0. ]]\n",
            "\n",
            "Element-Wise Multiplication of Matrices: \n",
            " [[  2.     2.25  -1.44]\n",
            " [  6.    25.9  -76.  ]\n",
            " [ 19.25   5.    16.  ]]\n",
            "\n",
            "Element-Wise Division of Matrices: \n",
            " [[ 0.5         1.         -1.        ]\n",
            " [ 0.66666667  0.52857143 -0.84210526]\n",
            " [ 0.63636364  1.25        1.        ]]\n"
          ]
        }
      ],
      "source": [
        "print('Subtraction of Matrices: \\n', A_np - B_np)\n",
        "print('\\nElement-Wise Multiplication of Matrices: \\n', A_np * B_np)\n",
        "print('\\nElement-Wise Division of Matrices: \\n', A_np / B_np)"
      ]
    },
    {
      "cell_type": "markdown",
      "metadata": {
        "id": "CKDtZeXoyCDa"
      },
      "source": [
        "#### Nhân 2 ma trận"
      ]
    },
    {
      "cell_type": "markdown",
      "metadata": {
        "id": "lpvPpbeIyCDa"
      },
      "source": [
        "##### Trên `A_list`"
      ]
    },
    {
      "cell_type": "code",
      "execution_count": null,
      "metadata": {
        "id": "01hzoqnuyCDa"
      },
      "outputs": [],
      "source": [
        "def multiply_matrix(A_list, B_list):\n",
        "    if len(A_list[0]) != len(B_list):\n",
        "        print('The dimensions are not compatible')\n",
        "\n",
        "    # Method 1\n",
        "    # m_row = len(A_list)\n",
        "    # n_col = len(B_list[0])\n",
        "\n",
        "    # C_list = create_zero_matrix(m_row, n_col)\n",
        "\n",
        "    # for i_row in range(m_row):\n",
        "    #     for i_col in range(n_col):\n",
        "    #         total = 0\n",
        "    #         for i,a in enumerate(A_list[i_row]):  # Iterate over each item in the row i_row (A_list)\n",
        "    #             total += a*B_list[i][i_col]       # Iterate over each item in the col i_col (B_list)\n",
        "    #         C_list[i_row][i_col] = total\n",
        "\n",
        "    # return C_list\n",
        "\n",
        "    # Method 2\n",
        "    return [[sum(i * j for i, j in zip(row, col)) for col in zip(*B_list)] for row in A_list] # What is * in function call?"
      ]
    },
    {
      "cell_type": "code",
      "execution_count": null,
      "metadata": {
        "colab": {
          "base_uri": "https://localhost:8080/"
        },
        "id": "2ZewTqa5yCDb",
        "outputId": "fea4399d-260f-43fb-8465-fc397fc694d6"
      },
      "outputs": [
        {
          "data": {
            "text/plain": [
              "[[-0.09999999999999964, 9.6, -17.85],\n",
              " [59.1, 44.900000000000006, -0.75],\n",
              " [36.5, 30.75, -3.5500000000000007]]"
            ]
          },
          "execution_count": 336,
          "metadata": {},
          "output_type": "execute_result"
        }
      ],
      "source": [
        "multiply_matrix(A_list, B_list)"
      ]
    },
    {
      "cell_type": "markdown",
      "metadata": {
        "id": "xuntY11hyCDb"
      },
      "source": [
        "##### Trên `A_np`"
      ]
    },
    {
      "cell_type": "code",
      "execution_count": null,
      "metadata": {
        "colab": {
          "base_uri": "https://localhost:8080/"
        },
        "id": "yqNHqemjyCDb",
        "outputId": "ff940408-bb29-43df-a954-60835cad8b01"
      },
      "outputs": [
        {
          "data": {
            "text/plain": [
              "array([[ -0.1 ,   9.6 , -17.85],\n",
              "       [ 59.1 ,  44.9 ,  -0.75],\n",
              "       [ 36.5 ,  30.75,  -3.55]])"
            ]
          },
          "execution_count": 337,
          "metadata": {},
          "output_type": "execute_result"
        }
      ],
      "source": [
        "np.matmul(A_np, B_np) # What is the symbol used for matmul?"
      ]
    },
    {
      "cell_type": "markdown",
      "metadata": {
        "id": "EPcBN-qGyCDb"
      },
      "source": [
        "#### Chuyển vị ma trận"
      ]
    },
    {
      "cell_type": "code",
      "execution_count": null,
      "metadata": {
        "colab": {
          "base_uri": "https://localhost:8080/"
        },
        "id": "VE6zRxSuyCDb",
        "outputId": "967c9c47-a09f-4f95-caf8-27d894b8b13e"
      },
      "outputs": [
        {
          "name": "stdout",
          "output_type": "stream",
          "text": [
            "[[ 1.   2.   3.5]\n",
            " [ 1.5  3.7  2.5]\n",
            " [-1.2  8.   4. ]]\n",
            "[[ 2.   3.   5.5]\n",
            " [ 1.5  7.   2. ]\n",
            " [ 1.2 -9.5  4. ]]\n"
          ]
        }
      ],
      "source": [
        "### YOUR CODE HERE\n",
        "print(A_np.T)\n",
        "print(np.transpose(B_np))"
      ]
    },
    {
      "cell_type": "markdown",
      "metadata": {
        "id": "ddqUC10NyCDb"
      },
      "source": [
        "### Định thức <a class=\"anchor\" id=\"c13\"></a>"
      ]
    },
    {
      "cell_type": "code",
      "execution_count": null,
      "metadata": {
        "id": "XsWt-t0ZyCDc"
      },
      "outputs": [],
      "source": [
        "A_list = [[0, 1, 2],\n",
        "          [3, 5, 5],\n",
        "          [5, 7, 5]]\n",
        "\n",
        "A_np = np.array(A_list)"
      ]
    },
    {
      "cell_type": "markdown",
      "metadata": {
        "id": "HaAB68pWyCDc"
      },
      "source": [
        "#### Trên `A_list`"
      ]
    },
    {
      "cell_type": "code",
      "execution_count": null,
      "metadata": {
        "id": "iykwEEQhyCDc"
      },
      "outputs": [],
      "source": [
        "def create_submatrix(A, i_row, i_col):\n",
        "    sub_A = [r[:] for r in A] # Deep copy A\n",
        "\n",
        "    # Remove row\n",
        "    sub_A = sub_A[:i_row] + sub_A[i_row+1:]\n",
        "\n",
        "    # Remove col\n",
        "    n_row_sub = len(sub_A)\n",
        "    for i in range(n_row_sub):\n",
        "        sub_A[i] = sub_A[i][:i_col] + sub_A[i][i_col+1:]\n",
        "\n",
        "    return sub_A\n",
        "\n",
        "\n",
        "# For square matrix\n",
        "def calc_determinant(A):\n",
        "    # Basic case, determinant of matrix size 1x1\n",
        "    if len(A) == 1 and len(A[0]) == 1:\n",
        "        return A[0][0]\n",
        "\n",
        "    total = 0\n",
        "\n",
        "    # Iterate over each column to remove\n",
        "    for i_col in range(len(A[0])):\n",
        "        sub_A = create_submatrix(A, 0, i_col)\n",
        "\n",
        "        # Find sign\n",
        "        sign = (-1) ** (i_col % 2)\n",
        "\n",
        "        # Use recursion for submatrix\n",
        "        sub_det = calc_determinant(sub_A)\n",
        "\n",
        "        # Incrementally update the output\n",
        "        total += sign * A[0][i_col] * sub_det\n",
        "\n",
        "    return total"
      ]
    },
    {
      "cell_type": "code",
      "execution_count": null,
      "metadata": {
        "colab": {
          "base_uri": "https://localhost:8080/"
        },
        "id": "Ig9isKvlyCDc",
        "outputId": "52b4ea44-b505-4e73-f1ef-fd74003e0ad2"
      },
      "outputs": [
        {
          "data": {
            "text/plain": [
              "2"
            ]
          },
          "execution_count": 341,
          "metadata": {},
          "output_type": "execute_result"
        }
      ],
      "source": [
        "calc_determinant(A_list)"
      ]
    },
    {
      "cell_type": "markdown",
      "metadata": {
        "id": "wjVGOEdIyCDc"
      },
      "source": [
        "#### Trên `A_np`"
      ]
    },
    {
      "cell_type": "code",
      "execution_count": null,
      "metadata": {
        "colab": {
          "base_uri": "https://localhost:8080/"
        },
        "id": "6JW_qWUgyCDc",
        "outputId": "f911ad45-14e9-44f9-810c-14432d6cf3fa"
      },
      "outputs": [
        {
          "data": {
            "text/plain": [
              "2.00000000000001"
            ]
          },
          "execution_count": 342,
          "metadata": {},
          "output_type": "execute_result"
        }
      ],
      "source": [
        "np.linalg.det(A_np)"
      ]
    },
    {
      "cell_type": "markdown",
      "metadata": {
        "id": "Ih1E4-qjyCDc"
      },
      "source": [
        "### Nghịch đảo ma trận <a class=\"anchor\" id=\"c14\"></a>"
      ]
    },
    {
      "cell_type": "markdown",
      "metadata": {
        "id": "T8MblgCayCDc"
      },
      "source": [
        "#### Trên `A_list`"
      ]
    },
    {
      "cell_type": "markdown",
      "metadata": {
        "id": "c8bKrlxsyCDc"
      },
      "source": [
        "##### Cách 1: Sử dụng phép khử Gauss-Jordan"
      ]
    },
    {
      "cell_type": "code",
      "execution_count": null,
      "metadata": {
        "id": "KbkhCXcEyCDc"
      },
      "outputs": [],
      "source": [
        "import math\n",
        "\n",
        "# From lab 01\n",
        "def is_zero(x):\n",
        "    return math.isclose(x, 0, abs_tol=1e-10)\n",
        "\n",
        "def row_switch(A, i, k):\n",
        "    \"di <-> dk\"\n",
        "    A[i], A[k] = A[k], A[i]\n",
        "\n",
        "def row_mul(A, i, alpha):\n",
        "    \"di = alpha*di\"\n",
        "    A[i] = [alpha*Aii for Aii in A[i]]\n",
        "\n",
        "def row_add(A, i, k, alpha):\n",
        "    \"di = di + anpha*dk\"\n",
        "    A[i] = [0 if is_zero(Aii + alpha*Aki) else Aii + alpha*Aki for Aii, Aki in zip(A[i], A[k])]\n",
        "\n",
        "def create_augmented_matrix(A):\n",
        "    I = create_identity_matrix(len(A))\n",
        "    return [Ai[:] + Ii for Ai, Ii in zip(A, I)]\n",
        "\n",
        "# Gauss-Jordan elimination\n",
        "def Gauss_Jordan(A):\n",
        "    # Append unique matrix to A matrix\n",
        "    augmented_A = create_augmented_matrix(A)\n",
        "\n",
        "    n_row = len(A)\n",
        "    n_col_A = len(A[0])\n",
        "\n",
        "    row = col = 0\n",
        "\n",
        "    while row < n_row:\n",
        "        # Step 1: Identify the leftmost column that contains only zeros\n",
        "        while col < n_col_A and all(is_zero(augmented_A[i][col]) for i in range(row, n_row)):\n",
        "            col += 1\n",
        "        if col == n_col_A:\n",
        "            break\n",
        "\n",
        "        # Step 2: Select the first row that contains non-zero coefficient\n",
        "        pivot_row = row + [not is_zero(augmented_A[i][col]) for i in range(row, n_row)].index(True)\n",
        "        row_switch(augmented_A, row, pivot_row)\n",
        "\n",
        "        # Step 3: Leading 1 option\n",
        "        row_mul(augmented_A, row, 1/augmented_A[row][col])\n",
        "\n",
        "        # Step 4: Add an appropriate multiple of the current row to the other rows, so that the coefficients in the column col become 0\n",
        "        for i in range(n_row):\n",
        "            if i == row:\n",
        "                continue\n",
        "\n",
        "            multiplier = augmented_A[i][col]/augmented_A[row][col]\n",
        "            row_add(augmented_A, i, row, -multiplier)\n",
        "\n",
        "        row += 1\n",
        "\n",
        "    return augmented_A\n",
        "\n",
        "# Invert matrix using Gauss-Jordan\n",
        "def invert_matrix_GJ(A):\n",
        "    n_col_A = len(A[0])\n",
        "    GJ_A = Gauss_Jordan(A)\n",
        "\n",
        "    # Separate the left and right matrices from the output matrix after using Gauss-Jordan elimination\n",
        "    lmatrix = [GJ_Ai[:n_col_A] for GJ_Ai in GJ_A]\n",
        "    rmatrix = [GJ_Ai[n_col_A:] for GJ_Ai in GJ_A]\n",
        "\n",
        "    # Determine whether the matrix is invertible\n",
        "    if lmatrix[-1][-1] == 0:\n",
        "        print('Singular matrix')\n",
        "        return None\n",
        "\n",
        "    return rmatrix\n"
      ]
    },
    {
      "cell_type": "code",
      "execution_count": null,
      "metadata": {
        "colab": {
          "base_uri": "https://localhost:8080/"
        },
        "id": "DWAmtZLfyCDd",
        "outputId": "6dbb9c3e-a71a-4dac-b7d6-9fd04fa96264"
      },
      "outputs": [
        {
          "name": "stdout",
          "output_type": "stream",
          "text": [
            "[[ -4.999999999999991  4.499999999999992 -2.4999999999999956]\n",
            " [  4.999999999999989 -4.999999999999991  2.9999999999999947]\n",
            " [-1.9999999999999947 2.4999999999999956 -1.4999999999999973]]\n"
          ]
        }
      ],
      "source": [
        "my_print(invert_matrix_GJ(A_list))"
      ]
    },
    {
      "cell_type": "markdown",
      "metadata": {
        "id": "HBa9h821yCDd"
      },
      "source": [
        "##### Cách 2: Sử dụng công thức $A^{-1} = \\dfrac{adj(A)}{det(A)}$"
      ]
    },
    {
      "cell_type": "code",
      "execution_count": null,
      "metadata": {
        "id": "jwyzglkTyCDd"
      },
      "outputs": [],
      "source": [
        "def transpose(A):\n",
        "    return list(map(list, zip(*A)))\n",
        "\n",
        "\n",
        "# For square matrix\n",
        "def invert_matrix(A):\n",
        "    n_row = len(A)\n",
        "    n_col = len(A[0])\n",
        "\n",
        "    # If the matrix is not square\n",
        "    if n_row != n_col:\n",
        "        print('Error: Not a square matrix')\n",
        "        return None\n",
        "\n",
        "    # Calc determinant for the matrix\n",
        "    det_A = calc_determinant(A)\n",
        "\n",
        "    # Return None if the matrix is singular\n",
        "    if det_A == 0:\n",
        "        print('Error: Singular matrix')\n",
        "        return None\n",
        "\n",
        "    # Basic case, matrix size 1x1\n",
        "    if n_row == 1 and n_col == 1:\n",
        "        return 1/det_A\n",
        "\n",
        "    # Create the output matrix\n",
        "    A_res = [[0 for _ in range(n_col)] for _ in range(n_row)]\n",
        "\n",
        "    # A_res = adj(A)/det_A -----------------------------------------------------------------\n",
        "    # Step 1: Transpose the original matrix\n",
        "    A_trans = transpose(A)\n",
        "\n",
        "    # Step 2: Calc the adj(A) along with assign result into A_res\n",
        "    for i_row in range(n_row):\n",
        "        for i_col in range(n_col):\n",
        "            # Create submatrix\n",
        "            sub_A = create_submatrix(A_trans, i_row, i_col)\n",
        "\n",
        "            # Find sign\n",
        "            sign = (-1) ** (i_row + i_col)\n",
        "\n",
        "            A_res[i_row][i_col] = sign * calc_determinant(sub_A)\n",
        "\n",
        "    # Step 3: Divide by determinant\n",
        "    A_res = multiply_scalar_matrix(1/det_A, A_res)\n",
        "\n",
        "    return A_res"
      ]
    },
    {
      "cell_type": "markdown",
      "metadata": {
        "id": "92hntfgnyCDd"
      },
      "source": [
        "**Tham khảo:**\n",
        "- [Invertible matrix](https://en.wikipedia.org/wiki/Invertible_matrix)\n",
        "- [Ma trận khả nghịch](https://vi.wikipedia.org/wiki/Ma_tr%E1%BA%ADn_kh%E1%BA%A3_ngh%E1%BB%8Bch)\n",
        "- [Adjugate matrix](https://en.wikipedia.org/wiki/Adjugate_matrix)"
      ]
    },
    {
      "cell_type": "code",
      "execution_count": null,
      "metadata": {
        "colab": {
          "base_uri": "https://localhost:8080/"
        },
        "id": "SwtFh_rfyCDd",
        "outputId": "c1b42e20-e9df-4d6d-95ee-0389eec237d3"
      },
      "outputs": [
        {
          "name": "stdout",
          "output_type": "stream",
          "text": [
            "[[-5.0  4.5 -2.5]\n",
            " [ 5.0 -5.0  3.0]\n",
            " [-2.0  2.5 -1.5]]\n"
          ]
        }
      ],
      "source": [
        "my_print(invert_matrix(A_list))"
      ]
    },
    {
      "cell_type": "markdown",
      "metadata": {
        "id": "OKGOfm5ayCDd"
      },
      "source": [
        "#### Trên `A_np`"
      ]
    },
    {
      "cell_type": "code",
      "execution_count": null,
      "metadata": {
        "colab": {
          "base_uri": "https://localhost:8080/"
        },
        "id": "HNWD2VBcyCDd",
        "outputId": "d8f78007-7de9-48f1-d99e-f9e03f53d2a0"
      },
      "outputs": [
        {
          "name": "stdout",
          "output_type": "stream",
          "text": [
            "[[-5.   4.5 -2.5]\n",
            " [ 5.  -5.   3. ]\n",
            " [-2.   2.5 -1.5]]\n"
          ]
        }
      ],
      "source": [
        "print(np.linalg.inv(A_np))"
      ]
    },
    {
      "cell_type": "markdown",
      "metadata": {
        "id": "1Sr4ru8qyCDe"
      },
      "source": [
        "---"
      ]
    },
    {
      "cell_type": "markdown",
      "metadata": {
        "id": "Do10jAzTyCDe"
      },
      "source": [
        "## Đồ án 1 - Color Compression <a class=\"anchor\" id=\"c2\"></a>"
      ]
    },
    {
      "cell_type": "markdown",
      "metadata": {
        "id": "gRXDGU59yCDe"
      },
      "source": [
        "### Nội dung đồ án <a class=\"anchor\" id=\"c21\"></a>"
      ]
    },
    {
      "cell_type": "markdown",
      "metadata": {
        "id": "_dJRDhxjyCDe"
      },
      "source": [
        "#### Giới thiệu"
      ]
    },
    {
      "cell_type": "markdown",
      "metadata": {
        "id": "QDcV_uDhyCDe"
      },
      "source": [
        "Một bức ảnh có thể lưu trữ dưới ma trận của các điểm ảnh. Có nhiều loại ảnh được sử dụng trong thực tế, ví dụ: ảnh xám, ảnh màu,...\n",
        "\n",
        "Đối với ảnh xám, một điểm ảnh sẽ là được biểu diễn bằng giá trị không âm.\n",
        "\n",
        "Ví dụ ta có thể dùng ma trận này:\n",
        "$$\\begin{bmatrix}\n",
        "255 & 0 & 0  & 0  & 255 \\\\\n",
        "255 & 0 & 255 & 0 & 255\\\\\n",
        "255 & 0 & 255 & 0 & 255\\\\\n",
        "255 & 0 & 255 & 0 & 255\\\\\n",
        "255 & 0 & 0  & 0  & 255\n",
        "\\end{bmatrix}$$\n",
        "\n",
        "có thể biểu diễn cho ảnh xám có nội dung như sau:"
      ]
    },
    {
      "cell_type": "code",
      "execution_count": null,
      "metadata": {
        "colab": {
          "base_uri": "https://localhost:8080/",
          "height": 430
        },
        "id": "afP0d_wmyCDe",
        "outputId": "50ae9aab-1097-42d1-be7c-ef3132a99445",
        "scrolled": true
      },
      "outputs": [],
      "source": [
        "import matplotlib.pyplot as plt\n",
        "plt.imshow(np.array([[255, 0, 0, 0, 255],\n",
        "                     [255, 0, 255, 0, 255],\n",
        "                     [255, 0, 255, 0, 255],\n",
        "                     [255, 0, 255, 0, 255],\n",
        "                     [255, 0, 0, 0, 255]]), cmap='gray', vmin=0, vmax=255);"
      ]
    },
    {
      "cell_type": "markdown",
      "metadata": {
        "id": "Rp4Y3qdoyCDe"
      },
      "source": [
        "Ảnh màu được sử dụng phổ biến là ảnh RGB, trong đó, mỗi điểm ảnh sẽ lưu trữ 3 thông tin kênh màu (mỗi kênh màu 1 byte) là: R (red - đỏ), G (green - xanh lá), B (blue - xanh dương). Ta có thể sử dụng ma trận:\n",
        "```\n",
        "                    [[[255, 255, 255], [255, 0, 0], [255, 0, 0], [255, 0, 0], [255, 255, 255]],\n",
        "                     [[255, 255, 255], [255, 0, 0], [255, 255, 255], [255, 0, 0], [255, 255, 255]],\n",
        "                     [[255, 255, 255], [255, 0, 0], [255, 255, 255], [255, 0, 0], [255, 255, 255]],\n",
        "                     [[255, 255, 255], [255, 0, 0], [255, 255, 255], [255, 0, 0], [255, 255, 255]],\n",
        "                     [[255, 255, 255], [255, 0, 0], [255, 0, 0], [255, 0, 0], [255, 255, 255]]]\n",
        "```\n",
        "để biểu diễn cho ảnh màu có nội dung sau:"
      ]
    },
    {
      "cell_type": "code",
      "execution_count": null,
      "metadata": {
        "colab": {
          "base_uri": "https://localhost:8080/",
          "height": 430
        },
        "id": "iyZN8u9ayCDe",
        "outputId": "2b25d6b2-d897-4eb9-fc1a-9ab3b09f19e4",
        "scrolled": true
      },
      "outputs": [
        {
          "data": {
            "image/png": "[encoded data removed]",
            "text/plain": [
              "<Figure size 640x480 with 1 Axes>"
            ]
          },
          "metadata": {},
          "output_type": "display_data"
        }
      ],
      "source": [
        "plt.imshow(np.array([[[255, 255, 255], [255, 0, 0], [255, 0, 0], [255, 0, 0], [255, 255, 255]],\n",
        "                     [[255, 255, 255], [255, 0, 0], [255, 255, 255], [255, 0, 0], [255, 255, 255]],\n",
        "                     [[255, 255, 255], [255, 0, 0], [255, 255, 255], [255, 0, 0], [255, 255, 255]],\n",
        "                     [[255, 255, 255], [255, 0, 0], [255, 255, 255], [255, 0, 0], [255, 255, 255]],\n",
        "                     [[255, 255, 255], [255, 0, 0], [255, 0, 0], [255, 0, 0], [255, 255, 255]]]));"
      ]
    },
    {
      "cell_type": "markdown",
      "metadata": {
        "id": "9ZbGclmYyCDe"
      },
      "source": [
        "Như vậy, số màu trong ảnh RGB có thể là $256^3 \\approx 1.7 \\times 10^7$. Với số lượng màu khá lớn, khi lưu trữ ảnh có thể sẽ tốn chi phí lưu trữ. Do đó bài toán đặt ra là giảm số lượng màu để biểu diễn ảnh sao cho nội dung ảnh được bảo toàn nhất có thể.\n",
        "\n",
        "Cho ảnh như sau:\n",
        "\n",
        "![img](https://i.ibb.co/PZgqGDh/project01-new.png)\n",
        "\n",
        "Trong ví dụ trên, số lượng màu cho ảnh ban đầu là 81705 màu. Sau khi giảm số lượng màu xuống còn 7, ảnh không còn được chi tiết nhưng cơ bản vẫn bảo toàn nội dung của ảnh ban đầu.\n",
        "\n",
        "Để thực hiện giảm số lượng màu, ta cần tìm ra các đại diện có thể thay thế cho một nhóm màu. Cụ thể trong trường hợp ảnh RGB, ta cần thực hiện gom nhóm các pixel $(\\mathbb{R}^3)$ và chọn ra đại diện cho từng nhóm. Như vậy, bài toán trên trở thành gom nhóm các vec-tơ."
      ]
    },
    {
      "cell_type": "markdown",
      "metadata": {
        "id": "Bb0ep1A8yCDf"
      },
      "source": [
        "#### Yêu cầu"
      ]
    },
    {
      "cell_type": "markdown",
      "metadata": {
        "id": "FPk4w7b0yCDf"
      },
      "source": [
        "Trong đồ án này, bạn được yêu cầu cài đặt chương trình giảm số lượng màu cho ảnh sử dụng thuật toán [K-Means](https://en.wikipedia.org/wiki/K-means_clustering).\n",
        "\n",
        "Các thư viện được phép sử dụng là: `NumPy` (tính toán ma trận), `PIL` (đọc, ghi ảnh), `matplotlib` (hiển thị ảnh).\n",
        "\n",
        "Một số gợi ý:\n",
        "- Đọc ảnh: `PIL.Image.open(...)`\n",
        "- Hiển thị ảnh: `matplotlib.pyplot.imshow(...)`\n",
        "- Thay đổi shape cho `np.ndarray`: `np.reshape(...)`\n",
        "- Khai báo hàm gợi ý cho thuật toán K-Means:\n",
        "    ```python\n",
        "    def kmeans(img_1d, k_clusters, max_iter, init_centroids='random'):\n",
        "        '''\n",
        "        K-Means algorithm\n",
        "        \n",
        "        Inputs:\n",
        "            img_1d : np.ndarray with shape=(height * width, num_channels)\n",
        "                Original image in 1d array\n",
        "            \n",
        "            k_clusters : int\n",
        "                Number of clusters\n",
        "                \n",
        "            max_iter : int\n",
        "                Max iterator\n",
        "                \n",
        "            init_cluster : str\n",
        "                The way which use to init centroids\n",
        "                'random' --> centroid has `c` channels, with `c` is initial random in [0,255]\n",
        "                'in_pixels' --> centroid is a random pixels of original image\n",
        "                \n",
        "        Outputs:\n",
        "            centroids : np.ndarray with shape=(k_clusters, num_channels)\n",
        "                Store color centroids\n",
        "                \n",
        "            labels : np.ndarray with shape=(height * width, )\n",
        "                Store label for pixels (cluster's index on which the pixel belongs)\n",
        "        \n",
        "        '''\n",
        "        \n",
        "        ### YOUR CODE HERE\n",
        "    ```\n",
        "\n",
        "<font style=\"color:red\">*Lưu ý: Không sử dụng K-Means đã được cài đặt sẵn trong các thư viện trong bài nộp. Bạn có thể sử dụng K-Means trong `scikit-learn` để kiểm tra.* </font>\n",
        "\n",
        "**Sinh viên cần viết chương trình `main` cho phép**:\n",
        "- Người dùng nhập vào tên tập tin ảnh mỗi lần chương trình thực thi (gợi ý sử dụng `input()` trong Python)\n",
        "- Lựa chọn định dạng lưu ảnh đầu ra gồm: `png`, `pdf`"
      ]
    },
    {
      "cell_type": "markdown",
      "metadata": {
        "id": "DLTixXpUyCDf"
      },
      "source": [
        "### Quy định bài nộp <a class=\"anchor\" id=\"c22\"></a>"
      ]
    },
    {
      "cell_type": "markdown",
      "metadata": {
        "id": "TP09clobyCDf"
      },
      "source": [
        "* Thực hiện toàn bộ bài làm trên 1 tập tin Jupyter Notebook (.ipynb) hoặc Python (.py)\n",
        "\n",
        "\n",
        "* Bạn nộp tập tin `MSSV.zip` được nén từ thư mục MSSV chứa các tập tin sau:\n",
        "    1. Báo cáo toàn bộ bài làm: `MSSV.pdf`\n",
        "    2. Mã nguồn: `MSSV.ipynb` hoặc `MSSV.py`\n",
        "\n",
        "\n",
        "* Trong đó, nội dung tập tin báo cáo gồm có:\n",
        "    - Thông tin cá nhân: Họ và tên, MSSV\n",
        "    - Ý tưởng thực hiện, mô tả các hàm\n",
        "    - Hình ảnh kết quả với từng số lượng màu, `k = {3, 5, 7}`. Sinh viên có thể thử nghiệm thêm `k` khác\n",
        "    - **Nhận xét kết quả trên**\n",
        "    - Báo cáo cần có số trang và tài liệu tham khảo\n",
        "    \n",
        "* Ví dụ minh họa cây thư mục bài nộp sau khi giải nén tập tin `MSSV.zip` như sau:\n",
        "```\n",
        "MSSV\n",
        "├── MSSV.pdf\n",
        "└── MSSV.ipynb\n",
        "```"
      ]
    },
    {
      "cell_type": "markdown",
      "metadata": {
        "id": "vGoL8DE6yCDf"
      },
      "source": [
        "### Quy định chấm bài <a class=\"anchor\" id=\"c23\"></a>"
      ]
    },
    {
      "cell_type": "markdown",
      "metadata": {
        "id": "a8yhn3gayCDf"
      },
      "source": [
        "Đồ án chiếm **10%** điểm tổng kết.\n",
        "\n",
        "Những trường hợp sau đây sẽ bị 0 điểm toàn bộ đồ án:\n",
        "* Nộp sai quy định\n",
        "* Không có báo cáo\n",
        "* Thực thi mã nguồn báo lỗi\n",
        "\n",
        "<font style=\"color:red\">**LƯU Ý: SAO CHÉP BÀI LÀM CỦA NHAU SẼ BỊ 0 ĐIỂM TOÀN BỘ PHẦN THỰC HÀNH**</font>"
      ]
    }
  ],
  "metadata": {
    "colab": {
      "provenance": []
    },
    "kernelspec": {
      "display_name": "Python 3.8.5 ('base')",
      "language": "python",
      "name": "python3"
    },
    "language_info": {
      "codemirror_mode": {
        "name": "ipython",
        "version": 3
      },
      "file_extension": ".py",
      "mimetype": "text/x-python",
      "name": "python",
      "nbconvert_exporter": "python",
      "pygments_lexer": "ipython3",
      "version": "3.8.10"
    },
    "vscode": {
      "interpreter": {
        "hash": "12920d2b74d238a34d57ab617188caf2b031799b1b8fe955c4fd1aad0aa97eec"
      }
    }
  },
  "nbformat": 4,
  "nbformat_minor": 0
}
